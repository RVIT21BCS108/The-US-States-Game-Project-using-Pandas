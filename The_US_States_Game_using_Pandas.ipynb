{
  "nbformat": 4,
  "nbformat_minor": 0,
  "metadata": {
    "colab": {
      "provenance": [],
      "authorship_tag": "ABX9TyNaweKxNBjx8s+YcsPsKEdk",
      "include_colab_link": true
    },
    "kernelspec": {
      "name": "python3",
      "display_name": "Python 3"
    },
    "language_info": {
      "name": "python"
    }
  },
  "cells": [
    {
      "cell_type": "markdown",
      "metadata": {
        "id": "view-in-github",
        "colab_type": "text"
      },
      "source": [
        "<a href=\"https://colab.research.google.com/github/RVIT21BCS108/The-US-States-Game-Project-using-Pandas/blob/main/The_US_States_Game_using_Pandas.ipynb\" target=\"_parent\"><img src=\"https://colab.research.google.com/assets/colab-badge.svg\" alt=\"Open In Colab\"/></a>"
      ]
    },
    {
      "cell_type": "code",
      "execution_count": 2,
      "metadata": {
        "colab": {
          "base_uri": "https://localhost:8080/",
          "height": 356
        },
        "id": "xatWpXyKS0El",
        "outputId": "ff6aae9a-c800-446e-e7b0-736dc57f9d47"
      },
      "outputs": [
        {
          "output_type": "error",
          "ename": "KeyboardInterrupt",
          "evalue": "Interrupted by user",
          "traceback": [
            "\u001b[0;31m---------------------------------------------------------------------------\u001b[0m",
            "\u001b[0;31mKeyboardInterrupt\u001b[0m                         Traceback (most recent call last)",
            "\u001b[0;32m<ipython-input-2-c3e9d743efc5>\u001b[0m in \u001b[0;36m<cell line: 18>\u001b[0;34m()\u001b[0m\n\u001b[1;32m     24\u001b[0m         \u001b[0;32mbreak\u001b[0m\u001b[0;34m\u001b[0m\u001b[0;34m\u001b[0m\u001b[0m\n\u001b[1;32m     25\u001b[0m \u001b[0;34m\u001b[0m\u001b[0m\n\u001b[0;32m---> 26\u001b[0;31m     \u001b[0mguess\u001b[0m \u001b[0;34m=\u001b[0m \u001b[0minput\u001b[0m\u001b[0;34m(\u001b[0m\u001b[0;34mf\"Guess a state (or type 'hint' for a hint, 'exit' to quit). Time remaining: {int(remaining_time)} seconds: \"\u001b[0m\u001b[0;34m)\u001b[0m\u001b[0;34m.\u001b[0m\u001b[0mstrip\u001b[0m\u001b[0;34m(\u001b[0m\u001b[0;34m)\u001b[0m\u001b[0;34m.\u001b[0m\u001b[0mtitle\u001b[0m\u001b[0;34m(\u001b[0m\u001b[0;34m)\u001b[0m\u001b[0;34m\u001b[0m\u001b[0;34m\u001b[0m\u001b[0m\n\u001b[0m\u001b[1;32m     27\u001b[0m \u001b[0;34m\u001b[0m\u001b[0m\n\u001b[1;32m     28\u001b[0m     \u001b[0;32mif\u001b[0m \u001b[0mguess\u001b[0m\u001b[0;34m.\u001b[0m\u001b[0mlower\u001b[0m\u001b[0;34m(\u001b[0m\u001b[0;34m)\u001b[0m \u001b[0;34m==\u001b[0m \u001b[0;34m\"exit\"\u001b[0m\u001b[0;34m:\u001b[0m\u001b[0;34m\u001b[0m\u001b[0;34m\u001b[0m\u001b[0m\n",
            "\u001b[0;32m/usr/local/lib/python3.10/dist-packages/ipykernel/kernelbase.py\u001b[0m in \u001b[0;36mraw_input\u001b[0;34m(self, prompt)\u001b[0m\n\u001b[1;32m    849\u001b[0m                 \u001b[0;34m\"raw_input was called, but this frontend does not support input requests.\"\u001b[0m\u001b[0;34m\u001b[0m\u001b[0;34m\u001b[0m\u001b[0m\n\u001b[1;32m    850\u001b[0m             )\n\u001b[0;32m--> 851\u001b[0;31m         return self._input_request(str(prompt),\n\u001b[0m\u001b[1;32m    852\u001b[0m             \u001b[0mself\u001b[0m\u001b[0;34m.\u001b[0m\u001b[0m_parent_ident\u001b[0m\u001b[0;34m,\u001b[0m\u001b[0;34m\u001b[0m\u001b[0;34m\u001b[0m\u001b[0m\n\u001b[1;32m    853\u001b[0m             \u001b[0mself\u001b[0m\u001b[0;34m.\u001b[0m\u001b[0m_parent_header\u001b[0m\u001b[0;34m,\u001b[0m\u001b[0;34m\u001b[0m\u001b[0;34m\u001b[0m\u001b[0m\n",
            "\u001b[0;32m/usr/local/lib/python3.10/dist-packages/ipykernel/kernelbase.py\u001b[0m in \u001b[0;36m_input_request\u001b[0;34m(self, prompt, ident, parent, password)\u001b[0m\n\u001b[1;32m    893\u001b[0m             \u001b[0;32mexcept\u001b[0m \u001b[0mKeyboardInterrupt\u001b[0m\u001b[0;34m:\u001b[0m\u001b[0;34m\u001b[0m\u001b[0;34m\u001b[0m\u001b[0m\n\u001b[1;32m    894\u001b[0m                 \u001b[0;31m# re-raise KeyboardInterrupt, to truncate traceback\u001b[0m\u001b[0;34m\u001b[0m\u001b[0;34m\u001b[0m\u001b[0m\n\u001b[0;32m--> 895\u001b[0;31m                 \u001b[0;32mraise\u001b[0m \u001b[0mKeyboardInterrupt\u001b[0m\u001b[0;34m(\u001b[0m\u001b[0;34m\"Interrupted by user\"\u001b[0m\u001b[0;34m)\u001b[0m \u001b[0;32mfrom\u001b[0m \u001b[0;32mNone\u001b[0m\u001b[0;34m\u001b[0m\u001b[0;34m\u001b[0m\u001b[0m\n\u001b[0m\u001b[1;32m    896\u001b[0m             \u001b[0;32mexcept\u001b[0m \u001b[0mException\u001b[0m \u001b[0;32mas\u001b[0m \u001b[0me\u001b[0m\u001b[0;34m:\u001b[0m\u001b[0;34m\u001b[0m\u001b[0;34m\u001b[0m\u001b[0m\n\u001b[1;32m    897\u001b[0m                 \u001b[0mself\u001b[0m\u001b[0;34m.\u001b[0m\u001b[0mlog\u001b[0m\u001b[0;34m.\u001b[0m\u001b[0mwarning\u001b[0m\u001b[0;34m(\u001b[0m\u001b[0;34m\"Invalid Message:\"\u001b[0m\u001b[0;34m,\u001b[0m \u001b[0mexc_info\u001b[0m\u001b[0;34m=\u001b[0m\u001b[0;32mTrue\u001b[0m\u001b[0;34m)\u001b[0m\u001b[0;34m\u001b[0m\u001b[0;34m\u001b[0m\u001b[0m\n",
            "\u001b[0;31mKeyboardInterrupt\u001b[0m: Interrupted by user"
          ]
        }
      ],
      "source": [
        "# ist upload us_states.csv file which has a column named states ith all 50 state names of the US\n",
        "import pandas as pd\n",
        "import time\n",
        "\n",
        "# Load the list of US states\n",
        "states_df = pd.read_csv('us_states.csv')\n",
        "all_states = states_df['state'].tolist()\n",
        "guessed_states = []\n",
        "\n",
        "score = 0\n",
        "hints = {state: state[0] for state in all_states}  # Example hint: first letter of the state\n",
        "\n",
        "# Set the duration of the game\n",
        "game_duration = 10 * 60  # 10 minutes in seconds\n",
        "start_time = time.time()\n",
        "\n",
        "# Main game loop\n",
        "while len(guessed_states) < 50:\n",
        "    elapsed_time = time.time() - start_time\n",
        "    remaining_time = game_duration - elapsed_time\n",
        "\n",
        "    if remaining_time <= 0:\n",
        "        print(\"Time's up!\")\n",
        "        break\n",
        "\n",
        "    guess = input(f\"Guess a state (or type 'hint' for a hint, 'exit' to quit). Time remaining: {int(remaining_time)} seconds: \").strip().title()\n",
        "\n",
        "    if guess.lower() == \"exit\":\n",
        "        print(\"Thanks for playing!\")\n",
        "        break\n",
        "    elif guess.lower() == \"hint\":\n",
        "        available_hints = [state for state in all_states if state not in guessed_states]\n",
        "        if available_hints:\n",
        "            hint_state = available_hints[0]\n",
        "            print(f\"Hint: The state starts with '{hints[hint_state]}'.\")\n",
        "        else:\n",
        "            print(\"No hints available.\")\n",
        "    elif guess in all_states and guess not in guessed_states:\n",
        "        guessed_states.append(guess)\n",
        "        score += 10\n",
        "        print(f\"Correct! You have guessed {len(guessed_states)} states correctly. Your score is {score}.\")\n",
        "    elif guess in guessed_states:\n",
        "        print(\"You already guessed that state. Try again.\")\n",
        "    else:\n",
        "        score -= 5\n",
        "        print(f\"Incorrect guess. Try again. Your score is {score}.\")\n",
        "\n",
        "if len(guessed_states) == 50:\n",
        "    print(f\"Congratulations! You guessed all the states! Your final score is {score}.\")\n",
        "else:\n",
        "    print(f\"You guessed {len(guessed_states)} states. Better luck next time! Your final score is {score}.\")\n",
        "\n",
        "# Show missed states\n",
        "missed_states = [state for state in all_states if state not in guessed_states]\n",
        "if missed_states:\n",
        "    print(\"You missed the following states:\")\n",
        "    print(\", \".join(missed_states))\n"
      ]
    }
  ]
}